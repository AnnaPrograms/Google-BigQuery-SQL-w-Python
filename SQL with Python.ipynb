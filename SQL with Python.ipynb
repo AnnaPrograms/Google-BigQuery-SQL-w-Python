{
 "cells": [
  {
   "cell_type": "markdown",
   "id": "47513033",
   "metadata": {},
   "source": [
    "## SQL with Python\n",
    "This is a refresher reference of what I learned working with SQL and python <br> <br>\n",
    "A popular database that we'll be using is **Google BigQuery**, this is for personal use. We will be using the popular datasets that Google Cloud has to offer, keep in mind, the possibilities with GBQ are endless. This is just a simple example for indiviual use.<br> \n",
    "\n",
    "### How to use Google BigQuery API \n",
    "<ul>\n",
    "    <li>Go to console.google.cloud.com</li><br>\n",
    "    <li>Create a project, and make sure Google BigQuery API is enabled</li>\n",
    "    <strong>keep in mind you can use Google BigQuery API free, you should not have to adjust or link your billing account if you intend to use it for indiviual small use, like in this case.</strong><br><br>\n",
    "    <li>Create a Google Cloud Service Account</li>\n",
    "    <strong>I highly recommend you to view this video on how to make a service account</strong> <a href = \"https://youtu.be/lLPdRRy7dfE?list=PL3JVwFmb_BnRKqcbtl2hHL5GIQOHX-sC5\" >Getting Started With Google BigQuery API In Python\n",
    "</a> <br><br>\n",
    "    <li>Install Google BigQuery</li>\n",
    "    <strong>Steps for this process are in this video, </strong>\n",
    "<a href = \"https://www.youtube.com/watch?v=gb0bytUGDnQ&t=0s\">How to create a Google Cloud Service Account and download client json file\n",
    "</a>\n",
    "\n",
    "</ul>\n",
    "\n",
    "<h5>If you are using Jupyter Notebooks make sure to add (!) symbol before pip installations as that tells the computer to run it in the shell terminal</h5>\n",
    "\n",
    "<h5>To view all of the public datasets in bigquery, go to your project dashbord and click run a query, then run a sample query and click \"open this query\", you are now in the google bigquery public datasets and you can view all of the datasets. To use one just call it like this </h5>\n"
   ]
  },
  {
   "cell_type": "markdown",
   "id": "da953f37",
   "metadata": {},
   "source": [
    "```dataset_ref = client.dataset(\"name-of-dataset\", project=\"bigquery-public-data\")```<br>\n",
    "```dataset = client.get_dataset(dataset_ref)```"
   ]
  },
  {
   "cell_type": "markdown",
   "id": "18ba82cf",
   "metadata": {},
   "source": [
    "### Setting up your enviornment and viewing your data"
   ]
  },
  {
   "cell_type": "code",
   "execution_count": 1,
   "id": "65b0d389",
   "metadata": {},
   "outputs": [],
   "source": [
    "# !pip install google-cloud-bigquery"
   ]
  },
  {
   "cell_type": "code",
   "execution_count": 2,
   "id": "cf6398e7",
   "metadata": {},
   "outputs": [],
   "source": [
    "import os\n",
    "import pandas as pd\n",
    "import numpy as np\n",
    "from google.cloud import bigquery\n",
    "\n",
    "# authenticates account\n",
    "os.environ['GOOGLE_APPLICATION_CREDENTIALS'] = 'data/google cloud/key.json'\n",
    "\n",
    "# create a \"Client\" object\n",
    "client = bigquery.Client()\n",
    "\n",
    "# construct a reference to the \"stackoverflow\" dataset\n",
    "dataset_ref = client.dataset(\"stackoverflow\", project=\"bigquery-public-data\")\n",
    "\n",
    "# API request - fetch the dataset\n",
    "dataset = client.get_dataset(dataset_ref)"
   ]
  },
  {
   "cell_type": "code",
   "execution_count": 3,
   "id": "e76200a2",
   "metadata": {
    "scrolled": false
   },
   "outputs": [
    {
     "name": "stdout",
     "output_type": "stream",
     "text": [
      "['badges', 'comments', 'post_history', 'post_links', 'posts_answers', 'posts_moderator_nomination', 'posts_orphaned_tag_wiki', 'posts_privilege_wiki', 'posts_questions', 'posts_tag_wiki', 'posts_tag_wiki_excerpt', 'posts_wiki_placeholder', 'stackoverflow_posts', 'tags', 'users', 'votes']\n"
     ]
    }
   ],
   "source": [
    "# Get a list of available tables \n",
    "tables = list(client.list_tables(dataset))\n",
    "list_of_tables = [table.table_id for table in tables] \n",
    "\n",
    "# Print your answer\n",
    "print(list_of_tables)\n"
   ]
  },
  {
   "cell_type": "markdown",
   "id": "bac738f5",
   "metadata": {},
   "source": [
    "### Note: Common error No Module 'db_dtypes' found\n",
    "You may get this error saying db_dtypes not found when you try to use the method `to_dataframe()`\n",
    "to fix this just use `!pip install db_dtypes` and if that still does not work then save your notebook and restart the program and it should fix it"
   ]
  },
  {
   "cell_type": "code",
   "execution_count": 7,
   "id": "679aa118",
   "metadata": {},
   "outputs": [
    {
     "data": {
      "text/html": [
       "<div>\n",
       "<style scoped>\n",
       "    .dataframe tbody tr th:only-of-type {\n",
       "        vertical-align: middle;\n",
       "    }\n",
       "\n",
       "    .dataframe tbody tr th {\n",
       "        vertical-align: top;\n",
       "    }\n",
       "\n",
       "    .dataframe thead th {\n",
       "        text-align: right;\n",
       "    }\n",
       "</style>\n",
       "<table border=\"1\" class=\"dataframe\">\n",
       "  <thead>\n",
       "    <tr style=\"text-align: right;\">\n",
       "      <th></th>\n",
       "      <th>id</th>\n",
       "      <th>title</th>\n",
       "      <th>body</th>\n",
       "      <th>accepted_answer_id</th>\n",
       "      <th>answer_count</th>\n",
       "      <th>comment_count</th>\n",
       "      <th>community_owned_date</th>\n",
       "      <th>creation_date</th>\n",
       "      <th>favorite_count</th>\n",
       "      <th>last_activity_date</th>\n",
       "      <th>last_edit_date</th>\n",
       "      <th>last_editor_display_name</th>\n",
       "      <th>last_editor_user_id</th>\n",
       "      <th>owner_display_name</th>\n",
       "      <th>owner_user_id</th>\n",
       "      <th>parent_id</th>\n",
       "      <th>post_type_id</th>\n",
       "      <th>score</th>\n",
       "      <th>tags</th>\n",
       "      <th>view_count</th>\n",
       "    </tr>\n",
       "  </thead>\n",
       "  <tbody>\n",
       "    <tr>\n",
       "      <th>0</th>\n",
       "      <td>18</td>\n",
       "      <td>None</td>\n",
       "      <td>&lt;p&gt;For a table like this:&lt;/p&gt;\\n\\n&lt;pre&gt;&lt;code&gt;CR...</td>\n",
       "      <td>None</td>\n",
       "      <td>None</td>\n",
       "      <td>2</td>\n",
       "      <td>NaT</td>\n",
       "      <td>2008-08-01 05:12:44.193000+00:00</td>\n",
       "      <td>None</td>\n",
       "      <td>2016-06-02 05:56:26.060000+00:00</td>\n",
       "      <td>2016-06-02 05:56:26.060000+00:00</td>\n",
       "      <td>Jeff Atwood</td>\n",
       "      <td>126039</td>\n",
       "      <td>phpguy</td>\n",
       "      <td>&lt;NA&gt;</td>\n",
       "      <td>17</td>\n",
       "      <td>2</td>\n",
       "      <td>59</td>\n",
       "      <td>None</td>\n",
       "      <td>None</td>\n",
       "    </tr>\n",
       "    <tr>\n",
       "      <th>1</th>\n",
       "      <td>165</td>\n",
       "      <td>None</td>\n",
       "      <td>&lt;p&gt;You can use a &lt;a href=\"http://sharpdevelop....</td>\n",
       "      <td>None</td>\n",
       "      <td>None</td>\n",
       "      <td>0</td>\n",
       "      <td>NaT</td>\n",
       "      <td>2008-08-01 18:04:25.023000+00:00</td>\n",
       "      <td>None</td>\n",
       "      <td>2019-04-06 14:03:51.080000+00:00</td>\n",
       "      <td>2019-04-06 14:03:51.080000+00:00</td>\n",
       "      <td>None</td>\n",
       "      <td>1721793</td>\n",
       "      <td>user2189331</td>\n",
       "      <td>&lt;NA&gt;</td>\n",
       "      <td>145</td>\n",
       "      <td>2</td>\n",
       "      <td>10</td>\n",
       "      <td>None</td>\n",
       "      <td>None</td>\n",
       "    </tr>\n",
       "    <tr>\n",
       "      <th>2</th>\n",
       "      <td>1028</td>\n",
       "      <td>None</td>\n",
       "      <td>&lt;p&gt;The VB code looks something like this:&lt;/p&gt;\\...</td>\n",
       "      <td>None</td>\n",
       "      <td>None</td>\n",
       "      <td>0</td>\n",
       "      <td>NaT</td>\n",
       "      <td>2008-08-04 04:58:40.300000+00:00</td>\n",
       "      <td>None</td>\n",
       "      <td>2013-02-07 13:22:14.680000+00:00</td>\n",
       "      <td>2013-02-07 13:22:14.680000+00:00</td>\n",
       "      <td>None</td>\n",
       "      <td>395659</td>\n",
       "      <td>user2189331</td>\n",
       "      <td>&lt;NA&gt;</td>\n",
       "      <td>947</td>\n",
       "      <td>2</td>\n",
       "      <td>8</td>\n",
       "      <td>None</td>\n",
       "      <td>None</td>\n",
       "    </tr>\n",
       "    <tr>\n",
       "      <th>3</th>\n",
       "      <td>1073</td>\n",
       "      <td>None</td>\n",
       "      <td>&lt;p&gt;My first choice would be a dedicated heap t...</td>\n",
       "      <td>None</td>\n",
       "      <td>None</td>\n",
       "      <td>0</td>\n",
       "      <td>NaT</td>\n",
       "      <td>2008-08-04 07:51:02.997000+00:00</td>\n",
       "      <td>None</td>\n",
       "      <td>2015-09-01 17:32:32.120000+00:00</td>\n",
       "      <td>2015-09-01 17:32:32.120000+00:00</td>\n",
       "      <td>None</td>\n",
       "      <td>45459</td>\n",
       "      <td>user2189331</td>\n",
       "      <td>&lt;NA&gt;</td>\n",
       "      <td>1069</td>\n",
       "      <td>2</td>\n",
       "      <td>29</td>\n",
       "      <td>None</td>\n",
       "      <td>None</td>\n",
       "    </tr>\n",
       "    <tr>\n",
       "      <th>4</th>\n",
       "      <td>1260</td>\n",
       "      <td>None</td>\n",
       "      <td>&lt;p&gt;I found the answer. all you have to do is a...</td>\n",
       "      <td>None</td>\n",
       "      <td>None</td>\n",
       "      <td>0</td>\n",
       "      <td>NaT</td>\n",
       "      <td>2008-08-04 14:06:02.863000+00:00</td>\n",
       "      <td>None</td>\n",
       "      <td>2016-12-20 08:38:48.867000+00:00</td>\n",
       "      <td>2016-12-20 08:38:48.867000+00:00</td>\n",
       "      <td>None</td>\n",
       "      <td>1221571</td>\n",
       "      <td>Jin</td>\n",
       "      <td>&lt;NA&gt;</td>\n",
       "      <td>1229</td>\n",
       "      <td>2</td>\n",
       "      <td>1</td>\n",
       "      <td>None</td>\n",
       "      <td>None</td>\n",
       "    </tr>\n",
       "  </tbody>\n",
       "</table>\n",
       "</div>"
      ],
      "text/plain": [
       "     id title                                               body  \\\n",
       "0    18  None  <p>For a table like this:</p>\\n\\n<pre><code>CR...   \n",
       "1   165  None  <p>You can use a <a href=\"http://sharpdevelop....   \n",
       "2  1028  None  <p>The VB code looks something like this:</p>\\...   \n",
       "3  1073  None  <p>My first choice would be a dedicated heap t...   \n",
       "4  1260  None  <p>I found the answer. all you have to do is a...   \n",
       "\n",
       "  accepted_answer_id answer_count  comment_count community_owned_date  \\\n",
       "0               None         None              2                  NaT   \n",
       "1               None         None              0                  NaT   \n",
       "2               None         None              0                  NaT   \n",
       "3               None         None              0                  NaT   \n",
       "4               None         None              0                  NaT   \n",
       "\n",
       "                     creation_date favorite_count  \\\n",
       "0 2008-08-01 05:12:44.193000+00:00           None   \n",
       "1 2008-08-01 18:04:25.023000+00:00           None   \n",
       "2 2008-08-04 04:58:40.300000+00:00           None   \n",
       "3 2008-08-04 07:51:02.997000+00:00           None   \n",
       "4 2008-08-04 14:06:02.863000+00:00           None   \n",
       "\n",
       "                last_activity_date                   last_edit_date  \\\n",
       "0 2016-06-02 05:56:26.060000+00:00 2016-06-02 05:56:26.060000+00:00   \n",
       "1 2019-04-06 14:03:51.080000+00:00 2019-04-06 14:03:51.080000+00:00   \n",
       "2 2013-02-07 13:22:14.680000+00:00 2013-02-07 13:22:14.680000+00:00   \n",
       "3 2015-09-01 17:32:32.120000+00:00 2015-09-01 17:32:32.120000+00:00   \n",
       "4 2016-12-20 08:38:48.867000+00:00 2016-12-20 08:38:48.867000+00:00   \n",
       "\n",
       "  last_editor_display_name  last_editor_user_id owner_display_name  \\\n",
       "0              Jeff Atwood               126039             phpguy   \n",
       "1                     None              1721793        user2189331   \n",
       "2                     None               395659        user2189331   \n",
       "3                     None                45459        user2189331   \n",
       "4                     None              1221571                Jin   \n",
       "\n",
       "   owner_user_id  parent_id  post_type_id  score  tags view_count  \n",
       "0           <NA>         17             2     59  None       None  \n",
       "1           <NA>        145             2     10  None       None  \n",
       "2           <NA>        947             2      8  None       None  \n",
       "3           <NA>       1069             2     29  None       None  \n",
       "4           <NA>       1229             2      1  None       None  "
      ]
     },
     "execution_count": 7,
     "metadata": {},
     "output_type": "execute_result"
    }
   ],
   "source": [
    "# construct a reference to the \"posts_answers\" table\n",
    "answers_table_ref = dataset_ref.table(\"posts_answers\")\n",
    "\n",
    "# API request - fetch the table\n",
    "answers_table = client.get_table(answers_table_ref)\n",
    "\n",
    "# preview the first five lines of the \"posts_answers\" table\n",
    "client.list_rows(answers_table, max_results=5).to_dataframe()\n"
   ]
  },
  {
   "cell_type": "markdown",
   "id": "06769645",
   "metadata": {},
   "source": [
    "<br>"
   ]
  },
  {
   "cell_type": "markdown",
   "id": "0d571bcc",
   "metadata": {},
   "source": [
    "### SQL LIKE and WHERE"
   ]
  },
  {
   "cell_type": "markdown",
   "id": "d061d1a2",
   "metadata": {},
   "source": [
    "In SQL, the percent sign is a wildcard character in \"LIKE\" expressions, suppose we have a table that is the english dictionary and we want to find all the words that start with micro for example <br>\n",
    "\n",
    "```SELECT * FROM english_dic_table``` <br>\n",
    "```WHERE word LIKE 'micro%'``` \n",
    "\n",
    "<strong>will fetch all words that start with \"micro\", which would return back microscopic, microplastic etc...</strong><br>\n",
    "\n",
    "Similiary we can return all the words which are phobias, that end in \"phobia\"<br>\n",
    "\n",
    "```SELECT * FROM english_dic_table``` <br>\n",
    "```WHERE word LIKE '%phobia'``` \n",
    "\n",
    "`Arachnophobia, Claustrophobia`<br>\n",
    "\n",
    "Or if you want to find any words that contains the word \"easy\", maybe you want to find what words rythm well with easy<br>\n",
    "\n",
    "```overeasy, greasy, easygoing, queasy```\n",
    "\n"
   ]
  },
  {
   "cell_type": "markdown",
   "id": "9256cd18",
   "metadata": {},
   "source": [
    "### StackOverFlow BigQuery Questions\n",
    "<br>"
   ]
  },
  {
   "cell_type": "code",
   "execution_count": 9,
   "id": "e6a9cb06",
   "metadata": {
    "scrolled": true
   },
   "outputs": [
    {
     "name": "stdout",
     "output_type": "stream",
     "text": [
      "         id                                              title  owner_user_id\n",
      "0  63863656                 BigQuery GENERATE_UUID() and CTE's        1904551\n",
      "1  64015814  Bigquery api response show in the json f, v fo...       14322916\n",
      "2  64123216     BigQuery couldn't connect to cloud SQL (MYSQL)        4378489\n",
      "3  63937852  Parse out Y-M-D from Y-M-D H-M-S UTC sql bigquery       10868854\n",
      "4  64159617  Create a Datatabase link to Google BigQuery in...       10281741\n"
     ]
    }
   ],
   "source": [
    "# we are selecting the id, title, and owner_user_id in the questions tab where it contains the word \"bigquery\" because \n",
    "# maybe we want to see all the questions on stackoverflow relating to Google BigQuery\n",
    "questions_query = \"\"\"\n",
    "                  SELECT id, title, owner_user_id\n",
    "                  FROM `bigquery-public-data.stackoverflow.posts_questions`\n",
    "                  WHERE tags LIKE '%bigquery%'\n",
    "                  \"\"\"\n",
    "\n",
    "# set up the query (cancel the query if it would use too much of your quota, with the limit set to 1 GB)\n",
    "safe_config = bigquery.QueryJobConfig(maximum_bytes_billed = 10 ** 10)\n",
    "questions_query_job = client.query(questions_query, job_config = safe_config)\n",
    "\n",
    "# API request - run the query, and return a pandas DataFrame\n",
    "questions_results = questions_query_job.to_dataframe() \n",
    "\n",
    "# preview results\n",
    "print(questions_results.head())"
   ]
  },
  {
   "cell_type": "markdown",
   "id": "db920215",
   "metadata": {},
   "source": [
    "### Example of practical use for SQL using JOIN\n",
    "<br>\n",
    "Suppose you want to get a list of all the experts on stackoverflow who are really knowledable about Google BigQeury, you could make a query that returns the users who answered at least one question about bigquery and the amount of questions they answered in total that related to that subject<br>\n",
    "\n",
    "the **AS** operator just stores the variable as a name that you can use later, <br>\n",
    "**COUNT(1)** counts how many rows that are in the dataset<br>\n",
    "we did an **INNER JOIN** and used **ON** to determine which column in each table to use to combine the tables. Which are <br> \n",
    "\n",
    "id from the questions table, that we call by `q.id` and parent_id from the answers table that we call by `a.parent_id`<br>\n",
    "\n",
    "We only want the questions that contain the word \"bigquery\" so from our previous code we know to use **WHERE** and the % wild card. <br>\n",
    "\n",
    "We **GROUP BY** the person who answered the question, which breaks the data into different groups for each person or \"expert\".<br>\n",
    "\n",
    "Lastly we order the dataset so that the most famous experts are on the top using **ORDER BY**"
   ]
  },
  {
   "cell_type": "code",
   "execution_count": 13,
   "id": "36c66059",
   "metadata": {},
   "outputs": [
    {
     "name": "stdout",
     "output_type": "stream",
     "text": [
      "   user_id  number_of_answers\n",
      "0  5221944               5203\n",
      "1  1144035               1634\n",
      "2   132438                898\n",
      "3  6253347                737\n",
      "4  1366527                620\n"
     ]
    }
   ],
   "source": [
    "# Your code here\n",
    "bigquery_experts_query = \"\"\"\n",
    "\n",
    "        SELECT a.owner_user_id AS user_id, COUNT(1) AS number_of_answers\n",
    "        FROM bigquery-public-data.stackoverflow.posts_questions as q\n",
    "        INNER JOIN bigquery-public-data.stackoverflow.posts_answers as a\n",
    "            ON q.id = a.parent_id\n",
    "        WHERE q.tags LIKE '%bigquery%'\n",
    "        GROUP BY a.owner_user_id\n",
    "        ORDER BY number_of_answers DESC\n",
    "\n",
    "\"\"\"\n",
    "\n",
    "# set up the query\n",
    "safe_config = bigquery.QueryJobConfig(maximum_bytes_billed = 10 ** 10)\n",
    "bigquery_experts_query_job = client.query(bigquery_experts_query, job_config = safe_config) # Your code goes here\n",
    "\n",
    "# API request - run the query, and return a pandas DataFrame\n",
    "bigquery_experts_results = bigquery_experts_query_job.to_dataframe()\n",
    "\n",
    "# preview results\n",
    "print(bigquery_experts_results.head())"
   ]
  },
  {
   "cell_type": "code",
   "execution_count": null,
   "id": "b148939d",
   "metadata": {},
   "outputs": [],
   "source": []
  }
 ],
 "metadata": {
  "kernelspec": {
   "display_name": "Python 3 (ipykernel)",
   "language": "python",
   "name": "python3"
  },
  "language_info": {
   "codemirror_mode": {
    "name": "ipython",
    "version": 3
   },
   "file_extension": ".py",
   "mimetype": "text/x-python",
   "name": "python",
   "nbconvert_exporter": "python",
   "pygments_lexer": "ipython3",
   "version": "3.10.9"
  }
 },
 "nbformat": 4,
 "nbformat_minor": 5
}
